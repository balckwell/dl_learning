{
 "cells": [
  {
   "cell_type": "code",
   "execution_count": 19,
   "metadata": {},
   "outputs": [],
   "source": []
  },
  {
   "cell_type": "code",
   "execution_count": 20,
   "metadata": {},
   "outputs": [],
   "source": [
    "#线性回归的简洁实现\n",
    "#调大库\n",
    "import numpy as np\n",
    "import torch\n",
    "from torch.utils import data\n",
    "from d2l import torch as d2l\n",
    "#设置真实值，再调用synthetic_data生成训练值\n",
    "true_w = torch.tensor([2, -3.4])\n",
    "true_b = 4.2\n",
    "features, labels = d2l.synthetic_data(true_w, true_b, 1000)\n"
   ]
  },
  {
   "cell_type": "code",
   "execution_count": 21,
   "metadata": {},
   "outputs": [
    {
     "data": {
      "text/plain": [
       "[tensor([[-0.7479, -0.3698],\n",
       "         [ 0.2645,  0.2645],\n",
       "         [ 0.8284,  0.6618],\n",
       "         [ 0.8517,  1.4767],\n",
       "         [-0.6493,  0.0147],\n",
       "         [ 0.0861, -0.7620],\n",
       "         [-0.2308,  1.8833],\n",
       "         [-0.2313,  0.6982],\n",
       "         [-1.4287,  1.0519],\n",
       "         [ 1.0666, -0.4068]]),\n",
       " tensor([[ 3.9598],\n",
       "         [ 3.8197],\n",
       "         [ 3.6191],\n",
       "         [ 0.8975],\n",
       "         [ 2.8425],\n",
       "         [ 6.9517],\n",
       "         [-2.6718],\n",
       "         [ 1.3554],\n",
       "         [-2.2289],\n",
       "         [ 7.7259]])]"
      ]
     },
     "execution_count": 21,
     "metadata": {},
     "output_type": "execute_result"
    }
   ],
   "source": [
    "#调用框架现有的api来读取数据\n",
    "def load_array(data_arrays, batch_size, is_train=True):\n",
    "    \"构造一个pytorch数据迭代器(iterator)\"\n",
    "    dataset = data.TensorDataset(*data_arrays)\n",
    "    return data.DataLoader(dataset, batch_size,shuffle=is_train)\n",
    "#使用dataloader函数，每次从样本中随机挑取batch_size个样本\n",
    "\n",
    "batch_size = 10\n",
    "data_iter = load_array((features, labels), batch_size)\n",
    "\n",
    "next(iter(data_iter))\n",
    "#通过iter()函数把data_iter转成iterator\n",
    "#通过next函数得到x分量和y分量\n",
    "\n",
    "\n",
    "\n"
   ]
  },
  {
   "cell_type": "code",
   "execution_count": 22,
   "metadata": {},
   "outputs": [],
   "source": [
    "#使用框架预定好的层\n",
    "#'nn'为神经网络的缩写\n",
    "from torch import nn\n",
    "\n",
    "net = nn.Sequential(nn.Linear(2, 1))#(2, 1)表示输入是两维，输出是一维\n",
    "#把这些层按顺序放到Sequential这个容器里面\n",
    "\n"
   ]
  },
  {
   "cell_type": "code",
   "execution_count": 23,
   "metadata": {},
   "outputs": [
    {
     "data": {
      "text/plain": [
       "tensor([0.])"
      ]
     },
     "execution_count": 23,
     "metadata": {},
     "output_type": "execute_result"
    }
   ],
   "source": [
    "# 初始化模型参数\n",
    "net[0].weight.data.normal_(0, 0.01)\n",
    "net[0].bias.data.fill_(0)#bias为偏差,通过bias访问偏差data,调用fill函数，使之为零\n",
    " "
   ]
  },
  {
   "cell_type": "code",
   "execution_count": 24,
   "metadata": {},
   "outputs": [],
   "source": [
    "#计算均方误差\n",
    "loss = nn.MSELoss()\n"
   ]
  },
  {
   "cell_type": "code",
   "execution_count": 32,
   "metadata": {},
   "outputs": [],
   "source": [
    "#实例化SGD\n",
    "trainer = torch.optim.SGD(net.parameters(), lr = 0.03)\n"
   ]
  },
  {
   "cell_type": "code",
   "execution_count": 29,
   "metadata": {},
   "outputs": [
    {
     "name": "stdout",
     "output_type": "stream",
     "text": [
      "epoch1, loss0.000098\n",
      "epoch2, loss0.000097\n",
      "epoch3, loss0.000098\n",
      "epoch4, loss0.000098\n",
      "epoch5, loss0.000098\n",
      "epoch6, loss0.000098\n",
      "epoch7, loss0.000098\n",
      "epoch8, loss0.000099\n",
      "epoch9, loss0.000097\n",
      "epoch10, loss0.000098\n"
     ]
    }
   ],
   "source": [
    "#写出训练过程\n",
    "num_epoch = 10\n",
    "for epoch in range(num_epoch):\n",
    "    for X, y in data_iter:\n",
    "        l = loss(net(X), y)\n",
    "        trainer.zero_grad()\n",
    "        l.backward()#这里的l已经求过sum\n",
    "        trainer.step()\n",
    "    l = loss(net(features), labels)\n",
    "    print(f'epoch{epoch + 1}, loss{l:f}')\n",
    "\n"
   ]
  }
 ],
 "metadata": {
  "kernelspec": {
   "display_name": "dl_env",
   "language": "python",
   "name": "python3"
  },
  "language_info": {
   "codemirror_mode": {
    "name": "ipython",
    "version": 3
   },
   "file_extension": ".py",
   "mimetype": "text/x-python",
   "name": "python",
   "nbconvert_exporter": "python",
   "pygments_lexer": "ipython3",
   "version": "3.11.4"
  }
 },
 "nbformat": 4,
 "nbformat_minor": 2
}
